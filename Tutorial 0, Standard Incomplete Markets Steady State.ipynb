{
 "cells": [
  {
   "cell_type": "markdown",
   "id": "9c81b185",
   "metadata": {},
   "source": [
    "# 0 Overview\n",
    "In this notebook, we'll learn how to find the steady-state policy and distribution of the discrete-time *standard incomplete markets model*. The Bellman equation for this model is\n",
    "\n",
    "$$\n",
    "\\begin{gather}\n",
    "V(s,a)=\\max_{c,a'} u(c)+\\beta\\mathbb{E}[V(s',a')|s] \\tag{1}\\\\\n",
    "\\text{s.t. }a'+c=(1+r)a+y(s) \\tag{2}\\\\\n",
    "a'\\geq \\underline{a} \\tag{3} \\\\\n",
    "\\end{gather}\n",
    "$$\n",
    "\n",
    "Here, households earn stochastic income $y(s)$ that depends on some exogenous state $s$ that follows a discrete Markov chain, and also earn returns $ra$ on their incoming assets. They split their *cash on hand* $(1+r)a+y(s)$ between assets saved for tomorrow $a'$ and consumption today $c$ in order to maximize expected utility, subject to a borrowing constraint $a'\\geq \\underline{a}$.\n",
    "\n",
    "We will implement this model in several steps, each corresponding to a section of this notebook:\n",
    "\n",
    "**[Section 1: discretizing assets and income](#section1)**. We'll discretize the continuum of possible asset states $a$ into a finite grid, and also calibrate the Markov chain for $s$ such that $\\log y(s)$ is approximately AR(1) with normal innovations.\n",
    "\n",
    "\n",
    "**[Section 2: backward iteration to obtain the policy function](#section2)**. We'll use backward iteration with the endogenous gridpoints method to solve the Bellman equation (1). This gives us steady-state consumption and asset policy functions $c(s,a)$ and $a'(s,a)$ on the discrete grid of states $(s,a)$ from section 1.\n",
    "\n",
    "\n",
    "**[Section 3: forward iteration to obtain the distribution](#section3)**. We'll use forward iteration with the asset policy function from section 2 to find the steady-state distribution, i.e. the mass $D(s,a)$ of households at each gridpoint $(s,a)$. Since households will generally not choose exactly a gridpoint as their asset policy, we'll use a \"lottery\" method (a form of linear interpolation) to allocate them between gridpoints.\n",
    "\n",
    "\n",
    "**[Section 4: combining everything and aggregating](#section4)**. \n",
    "Combining the policy function and distribution from sections 2 and 3, we obtain aggregate consumption and asset holdings. We can use these to calibrate the model, or solve for a simple general equilibrium steady state.\n",
    "\n",
    "\n",
    "The code developed in this notebook is in included in the `sim_steady_state.py` module, which is an excellent place to get a concise overview of everything developed here.\n",
    "\n",
    "\n",
    "This notebook does not focus on speed, although the code ends up having decent performance. We will discuss how to improve performance in another tutorial. \n",
    "\n",
    "\n",
    "**Preliminaries**. Before we start, we need to import the Python libraries that we'll be using:"
   ]
  },
  {
   "cell_type": "code",
   "execution_count": 3,
   "id": "f1371c3d",
   "metadata": {},
   "outputs": [],
   "source": [
    "import numpy as np\n",
    "import matplotlib.pyplot as plt\n",
    "import numba\n",
    "from scipy import optimize"
   ]
  },
  {
   "cell_type": "markdown",
   "id": "716c79d7",
   "metadata": {},
   "source": [
    "<a id='section1'></a>\n",
    "\n",
    "# 1 Discretizing assets and income\n",
    "*Note: this section is included for completeness, but the details here are not required to understand later sections, and readers who want to move ahead to the [core material in section 2](#section2) are encouraged to skim here.*\n",
    "\n",
    "## 1.1 Discretizing the asset space\n",
    "In principle, households pick assets from the interval $[\\underline{a},\\infty)$. Computationally, however, our methods require a finite grid of asset levels, and use linear interpolation to evaluate points off this grid.\n",
    "\n",
    "For simplicity, we will use the same grid to calculate the policy function and also to calculate the distribution.\n",
    "\n",
    "How should this grid be chosen? It turns out that for both the policy function and the distribution, we need:\n",
    "\n",
    "- densely spaced points near the borrowing constraint $\\underline{a}$, where the policy function is highly nonlinear and many households cluster.\n",
    "\n",
    "\n",
    "- sparsely spaced points going up to a very high level of assets, to ensure we capture the wealthiest households; at these high asset levels, the policy function becomes asymptotically linear (making linear interpolation accurate) and the distribution becomes smooth.\n",
    "\n",
    "A simple and effective way to produce such a grid is to do a **double-exponential transformation** of a uniformly spaced grid. Starting with uniformly spaced points $u_i$ on an interval $[0,\\bar{u}]$, we construct gridpoints $a_i$ by applying the transformation\n",
    "\n",
    "$$\n",
    "a_i = \\underline{a} + e^{e^{u_i}-1}-1 \\tag{4}\n",
    "$$\n",
    "\n",
    "This produces a grid with minimum $\\underline{a}$ and maximum $\\underline{a} + e^{e^{\\bar{u}}-1}-1$. To equate the latter with some desired maximum asset gridpoint $\\bar{a}$, we write $\\bar{u} = \\log(1+\\log(1+ \\overline{a} - \\underline{a}))$.\n",
    "\n",
    "We implement this in the function below."
   ]
  },
  {
   "cell_type": "code",
   "execution_count": 4,
   "id": "0e267661",
   "metadata": {},
   "outputs": [],
   "source": [
    "def discretize_assets(amin, amax, n_a):\n",
    "    # find maximum ubar of uniform grid corresponding to desired maximum amax of asset grid\n",
    "    ubar = np.log(1 + np.log(1 + amax - amin))\n",
    "    \n",
    "    # make uniform grid\n",
    "    u_grid = np.linspace(0, ubar, n_a)\n",
    "    \n",
    "    # double-exponentiate uniform grid and add amin to get grid from amin to amax\n",
    "    return amin + np.exp(np.exp(u_grid) - 1) - 1"
   ]
  },
  {
   "cell_type": "markdown",
   "id": "7dec9c52",
   "metadata": {},
   "source": [
    "Let's see the results, if we want a grid with 50 points between 0 and 10,000. (Normally, we'll want more than that, but this is easier to visualize.)"
   ]
  },
  {
   "cell_type": "code",
   "execution_count": 5,
   "id": "61225ef3",
   "metadata": {},
   "outputs": [
    {
     "name": "stdout",
     "output_type": "stream",
     "text": [
      "[0.00e+00 4.98e-02 1.05e-01 1.65e-01 2.32e-01 3.07e-01 3.90e-01 4.82e-01\n",
      " 5.86e-01 7.03e-01 8.34e-01 9.83e-01 1.15e+00 1.34e+00 1.57e+00 1.82e+00\n",
      " 2.11e+00 2.45e+00 2.85e+00 3.31e+00 3.86e+00 4.51e+00 5.29e+00 6.21e+00\n",
      " 7.34e+00 8.70e+00 1.04e+01 1.24e+01 1.50e+01 1.82e+01 2.23e+01 2.75e+01\n",
      " 3.42e+01 4.29e+01 5.43e+01 6.96e+01 9.01e+01 1.18e+02 1.57e+02 2.11e+02\n",
      " 2.87e+02 3.97e+02 5.58e+02 7.97e+02 1.16e+03 1.71e+03 2.58e+03 3.97e+03\n",
      " 6.23e+03 1.00e+04]\n"
     ]
    }
   ],
   "source": [
    "a_grid = discretize_assets(0, 10_000, 50)\n",
    "with np.printoptions(precision=2):\n",
    "    print(a_grid)"
   ]
  },
  {
   "cell_type": "markdown",
   "id": "a3fcf520",
   "metadata": {},
   "source": [
    "We see here the vastly greater concentration of gridpoints near the borrowing constraint: out of 50, the first 12 points are less than 1, the next 10 points are less than 5, and so on. Similarly, we see the thinly spaced points near the top: 6 points cover almost the entire span from 1000 to 10,000. With the *double* exponential, the ratio between each pair of successive points grows as we go higher on the grid.\n",
    "\n",
    "There are many variations on this theme: we could add scalar parameters in (2) to tinker with the spacing, use a triple exponential as in [Carroll](http://www.econ2.jhu.edu/people/ccarroll/EndogenousGridpoints.pdf), and so on. But the basic double exponential is a good and robust option."
   ]
  },
  {
   "cell_type": "markdown",
   "id": "19445626",
   "metadata": {},
   "source": [
    "## 1.2 Discretizing an AR(1) to obtain a Markov chain for incomes\n",
    "We set up the standard incomplete markets model under the assumption that there was a finite set of exogenous states $s$, each with income $y(s)$, and where the state of each household follows a Markov process with some probability $\\pi_{ss'}$ of moving from any state $s$ to any state $s'$.\n",
    "\n",
    "Sometimes it makes sense theoretically to have a income process with a few exogenous states: for instance, in a simple model we might have two states, for \"employment\" and \"unemployment\". But more generally, we think of this as a discrete approximation to a continuous income process—for instance, an AR(1) with persistence $\\rho$ and normal innovations $\\epsilon_t$:\n",
    "\n",
    "$$\n",
    "\\log y_t = \\rho \\log y_{t-1} + \\epsilon_t \\tag{5}\n",
    "$$\n",
    "\n",
    "The question is then how we can get a good approximation to the properties of the continuous process (5) with a Markov chain on finitely many states.\n",
    "\n",
    "There are several methods to discretize an AR(1) process with normal innovations. One of the most famous is the [Tauchen (1986) method](https://doi.org/10.1016/0165-1765(86)90168-0). Here, we will use the **Rouwenhorst method**, [summarized and elaborated upon by Kopecky and Suen](http://www.karenkopecky.net/Rouwenhorst_WP.pdf).\n",
    "\n",
    "One way to interpret this method is that it models the sum $s$ of $n-1$ independent hidden states, each of which can take the value 0 or 1, and each of which have a probability $p$ of staying at the current value and a probability $1-p$ of switching. There are $n$ possible values for this sum, ranging from 0 to $n-1$. As $n$ becomes higher, the sum $s$ behaves more and more like an AR(1) with normal innovations.\n",
    "\n",
    "One can show that the Markov transition matrix $\\Pi_n$ between possible values of the sum $s$ obeys the recursion\n",
    "\n",
    "$$\n",
    "\\Pi_{n}=p\\begin{bmatrix}\\Pi_{n-1} & \\mathbf{0}\\\\\n",
    "\\mathbf{0}' & 0\n",
    "\\end{bmatrix}+(1-p)\\begin{bmatrix}\\mathbf{0} & \\Pi_{n-1}\\\\\n",
    "0 & \\mathbf{0}'\n",
    "\\end{bmatrix}+(1-p)\\begin{bmatrix}\\mathbf{0}' & 0\\\\\n",
    "\\Pi_{n-1} & \\mathbf{0}\n",
    "\\end{bmatrix}+p\\begin{bmatrix}0 & \\mathbf{0}'\\\\\n",
    "\\mathbf{0} & \\Pi_{n-1}\n",
    "\\end{bmatrix} \\tag{6}\n",
    "$$\n",
    "\n",
    "with base case\n",
    "\n",
    "$$\n",
    "\\Pi_{2}=\\begin{bmatrix}p & 1-p\\\\\n",
    "1-p & p\n",
    "\\end{bmatrix} \\tag{7}\n",
    "$$\n",
    "\n",
    "The following function implements this recursion to return any desired $\\Pi_n$."
   ]
  },
  {
   "cell_type": "code",
   "execution_count": 6,
   "id": "4328b16f",
   "metadata": {},
   "outputs": [],
   "source": [
    "def rouwenhorst_Pi(N, p):\n",
    "    # base case Pi_2\n",
    "    Pi = np.array([[p, 1 - p],\n",
    "                   [1 - p, p]])\n",
    "    \n",
    "    # recursion to build up from Pi_2 to Pi_N\n",
    "    for n in range(3, N + 1):\n",
    "        Pi_old = Pi\n",
    "        Pi = np.zeros((n, n))\n",
    "        \n",
    "        Pi[:-1, :-1] += p * Pi_old\n",
    "        Pi[:-1, 1:] += (1 - p) * Pi_old\n",
    "        Pi[1:, :-1] += (1 - p) * Pi_old\n",
    "        Pi[1:, 1:] += p * Pi_old\n",
    "        Pi[1:-1, :] /= 2\n",
    "        \n",
    "    return Pi"
   ]
  },
  {
   "cell_type": "markdown",
   "id": "33105fd7",
   "metadata": {},
   "source": [
    "In a random sequence of sums $s_t$ drawn using any such $\\Pi_n$, one can show that the \"persistence\" $\\rho$ from regressing $s_t$ on $s_{t-1}$ is $2p-1$. For this to match a given AR(1) persistence $\\rho$, therefore, we must choose $p=(1+\\rho)/2$.\n",
    "\n",
    "Also, each $s_t$ is a sum of $n-1$ independent states that ultimately have a 50-50 probability of being 0 or 1, so its stationary distribution is the [binomial distribution](https://en.wikipedia.org/wiki/Binomial_distribution) with $n-1$ trials and success probability 1/2. This has standard deviation $\\sqrt{n-1}/2$, so if we want to match a given cross-sectional standard deviation of log income, we should scale each $s_t$ by the constant $\\alpha \\equiv 2\\sigma/\\sqrt{n-1}$.\n",
    "\n",
    "We can also add a constant $C$ to change the mean of $s_t$, but after we exponentiate this will end up scaling income by $e^C$. We'll pick the latter scaling factor directly to achieve a desired level of average income (in our case, a simple normalization of 1).\n",
    "\n",
    "First, we need to write code that finds the stationary distribution of a Markov chain with transition matrix $\\Pi$. A simple and robust way to do this is to repeatedly apply the transition matrix, updating the distribtion $\\pi$ to $\\Pi'\\pi$, until convergence up to some tolerance. (Note that `@` is matrix multiplication in Python, and `.T` gives the transpose.)"
   ]
  },
  {
   "cell_type": "code",
   "execution_count": 7,
   "id": "21a90645",
   "metadata": {},
   "outputs": [],
   "source": [
    "def stationary_markov(Pi, tol=1E-14):\n",
    "    # start with uniform distribution over all states\n",
    "    n = Pi.shape[0]\n",
    "    pi = np.full(n, 1/n)\n",
    "    \n",
    "    # update distribution using Pi until successive iterations differ by less than tol\n",
    "    for _ in range(10_000):\n",
    "        pi_new = Pi.T @ pi\n",
    "        if np.max(np.abs(pi_new - pi)) < tol:\n",
    "            return pi_new\n",
    "        pi = pi_new"
   ]
  },
  {
   "cell_type": "markdown",
   "id": "b94c9238",
   "metadata": {},
   "source": [
    "Now we'll put together our insights to obtain a discretized income process."
   ]
  },
  {
   "cell_type": "code",
   "execution_count": 8,
   "id": "23d73767",
   "metadata": {},
   "outputs": [],
   "source": [
    "def discretize_income(rho, sigma, n_s):\n",
    "    # choose inner-switching probability p to match persistence rho\n",
    "    p = (1+rho)/2\n",
    "    \n",
    "    # start with states from 0 to n_s-1, scale by alpha to match standard deviation sigma\n",
    "    s = np.arange(n_s)\n",
    "    alpha = 2*sigma/np.sqrt(n_s-1)\n",
    "    s = alpha*s\n",
    "    \n",
    "    # obtain Markov transition matrix Pi and its stationary distribution\n",
    "    Pi = rouwenhorst_Pi(n_s, p)\n",
    "    pi = stationary_markov(Pi)\n",
    "    \n",
    "    # s is log income, get income y and scale so that mean is 1\n",
    "    y = np.exp(s)\n",
    "    y /= np.vdot(pi, y)\n",
    "    \n",
    "    return y, pi, Pi"
   ]
  },
  {
   "cell_type": "markdown",
   "id": "d49ff43d",
   "metadata": {},
   "source": [
    "Let's test out our function on $\\rho=0.975$, $\\sigma=0.7$, and $n_s=7$. The former two values roughly match some estimates of the quarterly persistence, and the standard deviation, of the persistent component of log income in the US."
   ]
  },
  {
   "cell_type": "code",
   "execution_count": 9,
   "id": "ea57eeb1",
   "metadata": {},
   "outputs": [],
   "source": [
    "y, pi, Pi = discretize_income(0.975, 0.7, 7)"
   ]
  },
  {
   "cell_type": "markdown",
   "id": "27e8d1d4",
   "metadata": {},
   "source": [
    "The income states and their probabilities:"
   ]
  },
  {
   "cell_type": "code",
   "execution_count": 10,
   "id": "c53121f0",
   "metadata": {},
   "outputs": [
    {
     "data": {
      "text/plain": [
       "(array([0.1413694 , 0.25036602, 0.44339966, 0.78526334, 1.3907059 ,\n",
       "        2.46294815, 4.36189534]),\n",
       " array([0.015625, 0.09375 , 0.234375, 0.3125  , 0.234375, 0.09375 ,\n",
       "        0.015625]))"
      ]
     },
     "execution_count": 10,
     "metadata": {},
     "output_type": "execute_result"
    }
   ],
   "source": [
    "y, pi"
   ]
  },
  {
   "cell_type": "markdown",
   "id": "9e843570",
   "metadata": {},
   "source": [
    "Let's verify that the targeted mean, standard deviation, and persistence are all correct. First, the mean of the level of income is 1 (we take the dot product of `pi` and `y` because we want to sum the incomes `y` weighted by their population frequencies `pi`):"
   ]
  },
  {
   "cell_type": "code",
   "execution_count": 11,
   "id": "9653d942",
   "metadata": {},
   "outputs": [
    {
     "data": {
      "text/plain": [
       "0.9999999999999999"
      ]
     },
     "execution_count": 11,
     "metadata": {},
     "output_type": "execute_result"
    }
   ],
   "source": [
    "np.vdot(pi, y)"
   ]
  },
  {
   "cell_type": "markdown",
   "id": "74db6369",
   "metadata": {},
   "source": [
    "Second, the standard deviation of log income is $\\sigma=0.7$ (note that `**` is exponentiation in Python):"
   ]
  },
  {
   "cell_type": "code",
   "execution_count": 12,
   "id": "951bcc56",
   "metadata": {},
   "outputs": [
    {
     "data": {
      "text/plain": [
       "0.7000000000003476"
      ]
     },
     "execution_count": 12,
     "metadata": {},
     "output_type": "execute_result"
    }
   ],
   "source": [
    "log_y = np.log(y)\n",
    "mean_log_y = np.vdot(pi, log_y)\n",
    "sd_log_y = np.sqrt(np.vdot(pi, (log_y - mean_log_y)**2))\n",
    "sd_log_y"
   ]
  },
  {
   "cell_type": "markdown",
   "id": "c06816c4",
   "metadata": {},
   "source": [
    "Finally, the persistence of log income is $\\rho=0.975$. One way to see this is that in every state, the expected value of log income in the next period relative to the mean is $\\rho$ times the value in this period."
   ]
  },
  {
   "cell_type": "code",
   "execution_count": 13,
   "id": "a3777538",
   "metadata": {
    "scrolled": true
   },
   "outputs": [
    {
     "data": {
      "text/plain": [
       "array([ 2.22044605e-16,  0.00000000e+00, -1.11022302e-16,  2.35922393e-17,\n",
       "        1.11022302e-16,  0.00000000e+00,  0.00000000e+00])"
      ]
     },
     "execution_count": 13,
     "metadata": {},
     "output_type": "execute_result"
    }
   ],
   "source": [
    "log_y_minus_mean = log_y - mean_log_y\n",
    "log_y_minus_mean_expected_tomorrow = Pi @ log_y_minus_mean\n",
    "log_y_minus_mean_expected_tomorrow - 0.975*log_y_minus_mean"
   ]
  },
  {
   "cell_type": "markdown",
   "id": "45523ec2",
   "metadata": {},
   "source": [
    "A great advantage of the Rouwenhorst method is that we can achieve this exact match to both $\\rho$ and $\\sigma$. There is also a decent (but, of course, not perfect) fit to the normal innovations $\\epsilon_t$, which owes to the fact that a binomial distribution converges to a normal for high enough $n$."
   ]
  },
  {
   "cell_type": "markdown",
   "id": "d373fc1e",
   "metadata": {},
   "source": [
    "<a id='section2'></a>\n",
    "# 2 Backward iteration to obtain the policy function\n",
    "## 2.1 Discussion and overview\n",
    "A common way to solve for the policy function in (1) would be value function iteration. The value function itself, however, turns out not to be necessary in this problem. Instead, optimal policy is fully characterized by two conditions, an *envelope condition*\n",
    "\n",
    "$$\n",
    "V_{a,t}(s,a)=(1+r)u'(c_t(s,a)) \\tag{8}\n",
    "$$\n",
    "\n",
    "and a *first-order condition* on $a'$\n",
    "\n",
    "$$\n",
    "u'(c_t(s,a)) \\geq \\beta \\mathbb{E}[V_{a,t+1}(s',a_t'(s,a))|s] \\tag{9}\n",
    "$$\n",
    "\n",
    "where we have equality in (7) if the borrowing constraint $a'\\geq \\underline{a}$ does not bind.\n",
    "\n",
    "Both these conditions only require the derivative of the value function $V_a$ with respect to assets (the \"marginal value function\"), not the value function itself. Iterating on $V_a$ with (8)-(9), rather than trying to iterate on the value function itself, turns out to be both more accurate for any given grid and easier to implement.\n",
    "\n",
    "Here, we have added subscripts to clarify timing, and what it means to \"iterate backward\" in time: take in tomorrow's marginal value function $V_{a,t+1}$ on the right in (7), and then solve for today's policies $a_t'(s,a)$ and $c_t(s,a)$ and marginal value function $V_{a,t}$. The next section goes step-by-step through this process.\n",
    "\n",
    "## 2.2 Summary of endogenous gridpoints method and code for each step\n",
    "**Step 1: discounting and expectations.** Define the \"end-of-period\" value function $W_t$, discounting and taking expectations over tomorrow's state $s'$, as\n",
    "\n",
    "$$\n",
    "W_t(s,a') \\equiv \\beta \\mathbb{E}[V_{t+1}(s',a')|s] \\tag{10}\n",
    "$$\n",
    "\n",
    "so that (7) simplifies to\n",
    "\n",
    "$$\n",
    "u'(c_t(s,a)) \\geq W_{a,t}(s,a_t'(s,a)) \\tag{11}\n",
    "$$\n",
    "\n",
    "Concretely, to take expectations over $s'$ conditional on $s$, we will need to multiply by the Markov matrix $\\Pi$ that contains the probabilities of transitioning from each $s$ to $s'$. In our code, we go from the $n_s\\times n_a$ array of $V_{a,t+1}$ (`Va`) to the array of $W_{a,t}$ (`Wa`) with the line:\n",
    "\n",
    "```Python\n",
    "Wa = (beta * Pi) @ Va\n",
    "```\n",
    "\n",
    "**Step 2: solving for asset policy using the first-order condition.** This is the trickiest step. Let's assume that (11) holds with equality, and abuse notation slightly to define $a_t(s,a')$ to be the inverse of $a_t'(s,a)$, i.e. $a_t(s,a_t'(s,a))\\equiv a$. Then we can rewrite (11) as\n",
    "\n",
    "$$\n",
    "c_t(s,a_t(s,a')) = \\underbrace{(u')^{-1}(W_{a,t}(s,a'))}_{\\equiv c_t^{endog}(s,a')} \\tag{12}\n",
    "$$\n",
    "\n",
    "We have $W_{a,t}$ from step 1, and can therefore compute the right side of (12) on our grid. On the left, we see that this equals time-$t$ consumption at the so-called *endogenous gridpoint* $(s,a_t(s,a'))$, which is not (unless by coincidence) a point on the actual grid. The endogenous gridpoint is whatever gridpoint today at which the household chooses assets $a'$ for tomorrow.\n",
    "\n",
    "The budget constraint (2) implies that consumption plus asset policy of the household at this endogenous gridpoint, $c_t^{endog}(s,a')+a'$, must equal its cash on hand $(1+r)a_t(s,a')+y_t(s)$. Defining cash on hand \n",
    "\n",
    "$$\n",
    "coh(s,a)\\equiv (1+r)a + y(s) \\tag{13}\n",
    "$$\n",
    "\n",
    "this can be written as\n",
    "\n",
    "$$\n",
    "c_t^{endog}(s,a')+a' = coh(s,a_t(s,a')) \\tag{13}\n",
    "$$\n",
    "\n",
    "From above, we already know the left $c_t^{endog}(s,a')+a'$ at each gridpoint $(s,a')$. For each $s$, therefore, we have a collection of data points $(coh(s,a_t(s,a')), a')$, mapping cash on hand at the *endogenous* gridpoints $a_t(s,a')$ to the policy $a'$.\n",
    "\n",
    "These points are a sample from the true policy function that maps cash-on-hand to the asset choice $a'$. We can then *linearly interpolate* to evaluate this function at the levels of cash-on-hand $coh(s,a)$ corresponding to the *actual* gridpoints $(s,a)$. This gives us the policy function $a'(s,a)$ at those gridpoints, which is what we want.\n",
    "\n",
    "To implement this in code, we first construct $c_t^{endog}$ and $coh$ from definitions (12) and (13):\n",
    "\n",
    "```Python\n",
    "c_endog = Wa**(-eis)\n",
    "coh = y[:, np.newaxis] + (1+r)*a_grid\n",
    "```\n",
    "\n",
    "Here, we are making the additional assumption that the utility function is isoelastic, i.e. $u(c) \\equiv \\frac{c^{1-\\sigma^{-1}}}{1-\\sigma^{-1}}$, with elasticity of intertemporal substitution $\\sigma$ (`eis` in the code), so that $(u')^{-1}(x) = x^{-\\sigma}$. Also, `y[:, np.newaxis] + (1+r)*a` gives us an $n_s\\times n_a$ array `coh` where each entry `coh[s,i]` is equal to `y[s] + (1+r)*a[i]`; this is an example of [array broadcasting in Python](https://jakevdp.github.io/PythonDataScienceHandbook/02.05-computation-on-arrays-broadcasting.html).\n",
    "\n",
    "Then, separately for each state $s$, we interpolate against the sample points $(c_t^{endog}(s,a')+a', a')$ to find the asset policy given cash-on-hand $coh$ from the actual grid:\n",
    "\n",
    "```Python\n",
    "a = np.empty_like(coh)\n",
    "for s in range(len(y)):\n",
    "    a[s, :] = np.interp(coh[s, :], c_endog[s, :] + a_grid, a_grid)\n",
    "```\n",
    "\n",
    "**Step 3: enforcing the borrowing constraint and backing out consumption.**  In the last step we derived the policy function $a_t'(s,a)$ assuming that the Euler equation (11) held with equality, i.e. ignoring the borrowing constraint $a'\\geq \\underline{a}$.\n",
    "\n",
    "This is simple to address. If the $a_t'(s,a)$ we calculated is below $\\underline{a}$, then the Euler equation must not hold with equality after all, and instead the constraint binds so that $a_t'(s,a)=\\underline{a}$. Hence, we should replace $a_t'(s,a)$ with $\\max(a_t'(s,a),\\underline{a})$.\n",
    "\n",
    "With this corrected $a_t'(s,a)$, we can then use the budget constraint (2) to compute consumption as whatever is left over from cash on hand after we choose assets: $c_t(s,a) = coh(s,a) - a_t'(s,a)$.\n",
    "\n",
    "Implementing in code (where we assume that the first point on the grid is $\\underline{a}$): \n",
    "\n",
    "```Python\n",
    "a = np.maximum(a, a_grid[0])\n",
    "c = coh - a\n",
    "```\n",
    "\n",
    "**Step 4: using the envelope condition to recover the derivative of the value function.** Here we simply implement the envelope condition (8), again using our parametrization of $u$ where $u'(c) = c^{-1/\\sigma}$.\n",
    "\n",
    "```Python\n",
    "Va = (1+r) * c**(-1/eis)\n",
    "```\n",
    "\n",
    "## 2.3 Code for a single backward iteration\n",
    "Here we combine the 9 lines of code written above for steps 1 to 4 into the body of a single backward iteration function. \n",
    "\n",
    "This function takes in an $n_s\\times n_a$ array `Va` containing tomorrow's marginal value function $V_{a,t+1}$ at every point on the grid. It also takes in the $n_s\\times n_s$ Markov matrix `Pi` ($\\Pi$), the length-$n_a$ asset grid `a`, the length-$n_s$ array `y` of incomes $y_t(s)$, and the scalars `r` ($r$), `beta` ($\\beta$), and `eis` ($\\sigma$).\n",
    "\n",
    "It outputs $n_s\\times n_a$ arrays containing today's marginal value function $V_{a,t}$ and the policies $a'_t$ and $c_t$ at every point on the grid."
   ]
  },
  {
   "cell_type": "code",
   "execution_count": 14,
   "id": "2604cc84",
   "metadata": {},
   "outputs": [],
   "source": [
    "def backward_iteration(Va, Pi, a_grid, y, r, beta, eis):\n",
    "    # step 1: discounting and expectations\n",
    "    Wa = (beta * Pi) @ Va\n",
    "    \n",
    "    # step 2: solving for asset policy using the first-order condition\n",
    "    c_endog = Wa**(-eis)\n",
    "    coh = y[:, np.newaxis] + (1+r)*a_grid\n",
    "    \n",
    "    a = np.empty_like(coh)\n",
    "    for s in range(len(y)):\n",
    "        a[s, :] = np.interp(coh[s, :], c_endog[s, :] + a_grid, a_grid)\n",
    "        \n",
    "    # step 3: enforcing the borrowing constraint and backing out consumption\n",
    "    a = np.maximum(a, a_grid[0])\n",
    "    c = coh - a\n",
    "    \n",
    "    # step 4: using the envelope condition to recover the derivative of the value function\n",
    "    Va = (1+r) * c**(-1/eis)\n",
    "    \n",
    "    return Va, a, c"
   ]
  },
  {
   "cell_type": "markdown",
   "id": "7688573c",
   "metadata": {},
   "source": [
    "## 2.4 Obtaining steady-state policies\n",
    "To obtain steady-state $V_a$ and policies $a'$ and $c$, we need:\n",
    "- An initial guess for steady-state $V_a$\n",
    "- Then to iterate backward using `backward_iteration` until we hit some termination criterion\n",
    "\n",
    "Many different choices will deliver good performance. For now, we can just make some ad-hoc choices:\n",
    "- make a guess that consumption $c$ equals 5% of cash-on-hand, then turn this into a guess for $V_a$ using the envelope condition (step 4 above)\n",
    "- terminate backward iteration once the max distance between the asset policy function on two successive iterations falls below some tolerance, say $10^{-9}$\n",
    "    * (we can also have a maximum number of iterations, say 10,000, as a fail-safe so that the computer doesn't run forever if it isn't converging)\n",
    "\n",
    "The implementation is below."
   ]
  },
  {
   "cell_type": "code",
   "execution_count": 15,
   "id": "d7945773",
   "metadata": {},
   "outputs": [],
   "source": [
    "def policy_ss(Pi, a_grid, y, r, beta, eis, tol=1E-9):\n",
    "    # initial guess for Va: assume consumption 5% of cash-on-hand, then get Va from envelope condition\n",
    "    coh = y[:, np.newaxis] + (1+r)*a_grid\n",
    "    c = 0.05*coh\n",
    "    Va = (1+r) * c**(-1/eis)\n",
    "    \n",
    "    # iterate until maximum distance between two iterations falls below tol, fail-safe max of 10,000 iterations\n",
    "    for it in range(10_000):\n",
    "        Va, a, c = backward_iteration(Va, Pi, a_grid, y, r, beta, eis)\n",
    "        \n",
    "        # after iteration 0, can compare new policy function to old one\n",
    "        if it > 0 and np.max(np.abs(a - a_old)) < tol:\n",
    "            return Va, a, c\n",
    "        \n",
    "        a_old = a"
   ]
  },
  {
   "cell_type": "markdown",
   "id": "cd7e79f6",
   "metadata": {},
   "source": [
    "## 2.5 Calibrated example\n",
    "First let's make grids for assets and income, with 500 points and 7 points, respectively, and a borrowing constraint of 0. We'll use the same calibration for income as from above:"
   ]
  },
  {
   "cell_type": "code",
   "execution_count": 16,
   "id": "e11d3bc0",
   "metadata": {},
   "outputs": [],
   "source": [
    "a_grid = discretize_assets(0, 10_000, 500)\n",
    "y, pi, Pi = discretize_income(0.975, 0.7, 7)"
   ]
  },
  {
   "cell_type": "markdown",
   "id": "143f35ca",
   "metadata": {},
   "source": [
    "Finally, let's choose some values for the other parameters, with the idea that this is a quarterly calibration."
   ]
  },
  {
   "cell_type": "code",
   "execution_count": 17,
   "id": "f301bfa8",
   "metadata": {},
   "outputs": [],
   "source": [
    "r = 0.01/4\n",
    "beta = 1-0.08/4\n",
    "eis = 1"
   ]
  },
  {
   "cell_type": "markdown",
   "id": "87621db0",
   "metadata": {},
   "source": [
    "Now we can solve for steady-state policies!"
   ]
  },
  {
   "cell_type": "code",
   "execution_count": 18,
   "id": "caf5e4ba",
   "metadata": {},
   "outputs": [],
   "source": [
    "Va, a, c = policy_ss(Pi, a_grid, y, r, beta, eis)"
   ]
  },
  {
   "cell_type": "markdown",
   "id": "c1a23c39",
   "metadata": {},
   "source": [
    "We won't look at the solutions in depth, but let's plot the consumption policy functions.\n",
    "\n",
    "If we look at the entire function, it seems linear, because at high levels of assets it becomes asymptotically linear, and our grid includes some high asset levels to make sure we don't miss any rich households:"
   ]
  },
  {
   "cell_type": "code",
   "execution_count": 19,
   "id": "f6337dd2",
   "metadata": {
    "scrolled": false
   },
   "outputs": [
    {
     "data": {
      "image/png": "[encoded data removed]",
      "text/plain": [
       "<Figure size 432x288 with 1 Axes>"
      ]
     },
     "metadata": {
      "needs_background": "light"
     },
     "output_type": "display_data"
    }
   ],
   "source": [
    "for s, ys in enumerate(y):\n",
    "    plt.plot(a_grid, c[s, :], label=f'y={ys:.2f}')\n",
    "plt.legend()\n",
    "plt.xlabel('assets')\n",
    "plt.ylabel('consumption');"
   ]
  },
  {
   "cell_type": "markdown",
   "id": "0d80c665",
   "metadata": {},
   "source": [
    "Looking only at lower assets, we see a more interesting picture, with some of the well-known *concavity* of the consumption function for lower income states:"
   ]
  },
  {
   "cell_type": "code",
   "execution_count": 20,
   "id": "c0db879a",
   "metadata": {
    "scrolled": false
   },
   "outputs": [
    {
     "data": {
      "image/png": "[encoded data removed]",
      "text/plain": [
       "<Figure size 432x288 with 1 Axes>"
      ]
     },
     "metadata": {
      "needs_background": "light"
     },
     "output_type": "display_data"
    }
   ],
   "source": [
    "for s, ys in enumerate(y):\n",
    "    plt.plot(a_grid[:120], c[s, :120], label=f'y={ys:.2f}')\n",
    "plt.legend()\n",
    "plt.xlabel('assets')\n",
    "plt.ylabel('consumption');"
   ]
  },
  {
   "cell_type": "markdown",
   "id": "8550ab13",
   "metadata": {},
   "source": [
    "It's even more visible if we zoom in on only the lowest income states:"
   ]
  },
  {
   "cell_type": "code",
   "execution_count": 21,
   "id": "6f90a896",
   "metadata": {},
   "outputs": [
    {
     "data": {
      "image/png": "[encoded data removed]",
      "text/plain": [
       "<Figure size 432x288 with 1 Axes>"
      ]
     },
     "metadata": {
      "needs_background": "light"
     },
     "output_type": "display_data"
    }
   ],
   "source": [
    "for s, ys in enumerate(y[:4]):\n",
    "    plt.plot(a_grid[:120], c[s, :120], label=f'y={ys:.2f}')\n",
    "plt.legend()\n",
    "plt.xlabel('assets')\n",
    "plt.ylabel('consumption');"
   ]
  },
  {
   "cell_type": "markdown",
   "id": "dce96a6e",
   "metadata": {},
   "source": [
    "It is also interesting to plot net saving—the increase or decrease in assets. At higher incomes, people are net savers until they reach a high level of assets. You can see how this might produce a right-skewed distribution of assets: in this case, even though we've extended the plot to much higher asset levels, savings are still positive for the highest income state $y=4.36$, while most of the lower income states either dissave until they hit zero or a very low level of assets."
   ]
  },
  {
   "cell_type": "code",
   "execution_count": 22,
   "id": "be2dddd1",
   "metadata": {
    "scrolled": false
   },
   "outputs": [
    {
     "data": {
      "image/png": "[encoded data removed]",
      "text/plain": [
       "<Figure size 432x288 with 1 Axes>"
      ]
     },
     "metadata": {
      "needs_background": "light"
     },
     "output_type": "display_data"
    }
   ],
   "source": [
    "for s, ys in enumerate(y):\n",
    "    plt.plot(a_grid[:300], a[s, :300] - a_grid[:300], label=f'y={ys:.2f}')\n",
    "plt.axhline(0, linestyle='--', color='k')\n",
    "plt.legend()\n",
    "plt.xlabel('assets')\n",
    "plt.ylabel('savings');"
   ]
  },
  {
   "cell_type": "markdown",
   "id": "64bb1050",
   "metadata": {},
   "source": [
    "<a id='section3'></a>\n",
    "# 3 Forward iteration to obtain the distribution\n",
    "\n",
    "## 3.1 Policies going off the grid and the distribution\n",
    "Let's take a look at the asset policy function `a` that we just obtained.\n",
    "\n",
    "We note that generally, the asset policy function `a` will not land us at a point on the asset grid. For instance, suppose we look the asset policy for the household in the second-highest income state ($y=2.46$) with assets at the lowest gridpoint (in this case, zero):"
   ]
  },
  {
   "cell_type": "code",
   "execution_count": 23,
   "id": "5f05e5a4",
   "metadata": {
    "scrolled": false
   },
   "outputs": [
    {
     "data": {
      "text/plain": [
       "0.43644603651957736"
      ]
     },
     "execution_count": 23,
     "metadata": {},
     "output_type": "execute_result"
    }
   ],
   "source": [
    "a[5, 0]"
   ]
  },
  {
   "cell_type": "markdown",
   "id": "ffc26e18",
   "metadata": {},
   "source": [
    "This turns out to be in between points 66 and 67 on the grid:"
   ]
  },
  {
   "cell_type": "code",
   "execution_count": 24,
   "id": "d010382d",
   "metadata": {},
   "outputs": [
    {
     "data": {
      "text/plain": [
       "array([0.38029038, 0.38883467, 0.3974721 , 0.40620394, 0.41503147,\n",
       "       0.423956  , 0.43297886, 0.44210141, 0.45132502, 0.46065108])"
      ]
     },
     "execution_count": 24,
     "metadata": {},
     "output_type": "execute_result"
    }
   ],
   "source": [
    "a_grid[60:70]"
   ]
  },
  {
   "cell_type": "markdown",
   "id": "6a7a6620",
   "metadata": {},
   "source": [
    "Suppose that we want to represent the joint distribution of households across states and assets. There are many possible ways we could represent this distribution, but the simplest is to discretize it using the same grid as for the policy function, keeping track of the mass at each gridpoint.\n",
    "\n",
    "But this runs into the problem above: households starting at a gridpoint this period will generally not go to an exact gridpoint next period. How can we keep track of them, and assign them to a gridpoint?\n",
    "\n",
    "## 3.2 Lotteries\n",
    "One solution is to assume that the household follows a \"lottery\", going to each of the nearest two gridpoints with some probability, such that on average, the household chooses the right asset value. We can think of this as a local first-order approximation.\n",
    "\n",
    "In particular, let the asset grid be $(a_0,\\ldots,a_{n_a-1})$. If some policy $a'$ lies in between gridpoints $a_i$ and $a_{i+1}$, then we want a lottery where the household goes to $a_i$ with probability $\\pi$ and $a_{i+1}$ with probability $1-\\pi$, such that\n",
    "\n",
    "$$\n",
    "\\pi a_i + (1-\\pi) a_{i+1} = a'\n",
    "$$\n",
    "\n",
    "This can easily be solved to give\n",
    "\n",
    "$$\n",
    "\\pi = (a_{i+1} - a')/(a_{i+1} - a_i) \\tag{14}\n",
    "$$\n",
    "\n",
    "Note that this procedure is closely related to linear interpolation. By replacing a household at $a'$ tomorrow with a mixture of $\\pi$ households at $a_i$ and $1-\\pi$ households at $a_{i+1}$, we are effectively replacing any function of interest $f(a')$ for the household tomorrow, assuming we know it on the grid, by its linear interpolation $\\pi f(a_i) + (1-\\pi)f(a_{i+1})$.\n",
    "\n",
    "#### Getting the lottery\n",
    "We now write code that takes in an array `a` giving the policy function $a'(s,a)$, and the asset grid `a_grid`. It produces the $i(s,a)$ and $\\pi(s,a)$ for the lottery corresponding to $a'(s,a)$, which we store in arrays `a_i` and `a_pi`.\n",
    "\n",
    "This involves two steps, both for each $(s,a)$.\n",
    "\n",
    "1. Find the $i$ such that $a'$ lies between gridpoints $a_i$ and $a_{i+1}$.\n",
    "\n",
    "\n",
    "2. Implement equation (14) to obtain lottery probabilities $\\pi$."
   ]
  },
  {
   "cell_type": "code",
   "execution_count": 25,
   "id": "07297f88",
   "metadata": {},
   "outputs": [],
   "source": [
    "def get_lottery(a, a_grid):\n",
    "    # step 1: find the i such that a' lies between gridpoints a_i and a_(i+1)\n",
    "    a_i = np.searchsorted(a_grid, a) - 1\n",
    "    \n",
    "    # step 2: obtain lottery probabilities pi\n",
    "    a_pi = (a_grid[a_i+1] - a)/(a_grid[a_i+1] - a_grid[a_i])\n",
    "    \n",
    "    return a_i, a_pi"
   ]
  },
  {
   "cell_type": "markdown",
   "id": "c338f675",
   "metadata": {},
   "source": [
    "Let's apply this, first, to the single point `a[5,0]` we saw earlier, which as we noted was between points 66 and 67 in the grid."
   ]
  },
  {
   "cell_type": "code",
   "execution_count": 26,
   "id": "595dd514",
   "metadata": {},
   "outputs": [
    {
     "data": {
      "text/plain": [
       "(66, 0.6199338577165254)"
      ]
     },
     "execution_count": 26,
     "metadata": {},
     "output_type": "execute_result"
    }
   ],
   "source": [
    "get_lottery(a[5, 0], a_grid)"
   ]
  },
  {
   "cell_type": "markdown",
   "id": "61d791ce",
   "metadata": {},
   "source": [
    "This gives us $i=66$ and $\\pi=0.62$, with the latter indicating that `a[5,0]` is closer to gridpoint 66 than 67, and thus that 66 gets a higher weight in the lottery.\n",
    "\n",
    "If we apply this to our entire policy function `a`, we get two arrays that have the dimensionality of the grid, with `a_i` having the integer indices $i$ and `a_pi` having the lottery probabilities $\\pi$."
   ]
  },
  {
   "cell_type": "code",
   "execution_count": 27,
   "id": "cea7f193",
   "metadata": {},
   "outputs": [
    {
     "data": {
      "text/plain": [
       "((7, 500), dtype('int64'), (7, 500), dtype('float64'))"
      ]
     },
     "execution_count": 27,
     "metadata": {},
     "output_type": "execute_result"
    }
   ],
   "source": [
    "a_i, a_pi = get_lottery(a, a_grid)\n",
    "a_i.shape, a_i.dtype, a_pi.shape, a_pi.dtype"
   ]
  },
  {
   "cell_type": "markdown",
   "id": "ff1bb0ab",
   "metadata": {},
   "source": [
    "## 3.3 Using the lottery to iterate on the distribution\n",
    "Now, we need to implement the lottery. Suppose that we have a discretized distribution $D(s,a)$ giving the mass at each gridpoint.\n",
    "\n",
    "At each gridpoint, we want to send a fraction $\\pi(s,a)$ of the mass to the asset gridpoint with index $i(s,a)$, and $1-\\pi(s,a)$ of the mass to index $i(s,a)+1$.\n",
    "\n",
    "This is very easy to implement directly, but a straightforward implementation uses `for` loops and be very slow in ordinary Python. Fortunately, a package called Numba allows us to accelerate compatible code by adding a simple `@numba.njit` decorator at the top of the function. This does just-in-time compilation of the code, so that after an initial compilation cost is paid on the first run, the code runs at a speed comparable to compiled languages like C and Fortran."
   ]
  },
  {
   "cell_type": "code",
   "execution_count": 28,
   "id": "e65fbcb9",
   "metadata": {},
   "outputs": [],
   "source": [
    "@numba.njit\n",
    "def forward_policy(D, a_i, a_pi):\n",
    "    Dend = np.zeros_like(D)\n",
    "    for s in range(a_i.shape[0]):\n",
    "        for a in range(a_i.shape[1]):\n",
    "            # send pi(s,a) of the mass to gridpoint i(s,a)\n",
    "            Dend[s, a_i[s,a]] += a_pi[s,a]*D[s,a]\n",
    "            \n",
    "            # send 1-pi(s,a) of the mass to gridpoint i(s,a)+1\n",
    "            Dend[s, a_i[s,a]+1] += (1-a_pi[s,a])*D[s,a]\n",
    "            \n",
    "    return Dend"
   ]
  },
  {
   "cell_type": "markdown",
   "id": "3f964f92",
   "metadata": {},
   "source": [
    "## 3.4 Iterating on the state as well\n",
    "After households choose their new asset levels $a'$, we have the \"end-of-period\" distribution $D^{end}(s,a')$. But to get the distribution $D(s',a')$ at the beginning of next period, we also need to update the exogenous state $s$ to $s'$. Like in `stationary_markov` earlier, this requires matrix multiplication by the *transpose* $\\Pi'$ of the Markov matrix. (Note the contrast with the first step of `backward_iteration`, where multiply by $\\Pi$ itself to take expectations.)\n",
    "\n",
    "We can now combine this with the `forward_policy` function above to get a complete forward iteration function, taking us from $D(s,a)$ to $D(s',a')$:"
   ]
  },
  {
   "cell_type": "code",
   "execution_count": 29,
   "id": "8d488b74",
   "metadata": {},
   "outputs": [],
   "source": [
    "def forward_iteration(D, Pi, a_i, a_pi):\n",
    "    Dend = forward_policy(D, a_i, a_pi)    \n",
    "    return Pi.T @ Dend"
   ]
  },
  {
   "cell_type": "markdown",
   "id": "8261ed12",
   "metadata": {},
   "source": [
    "## 3.5 Iterating to find stationary distribution of $(s,a)$\n",
    "As an initial guess for the distribution $D(s,a)$, we'll use $D(s,a)=\\frac{1}{n_a}\\pi(s)$, which has the right marginal distribution of states $s$, but a uniform distribution of $a$ conditional on each $s$."
   ]
  },
  {
   "cell_type": "code",
   "execution_count": 30,
   "id": "2e53aa13",
   "metadata": {},
   "outputs": [],
   "source": [
    "def distribution_ss(Pi, a, a_grid, tol=1E-10):\n",
    "    a_i, a_pi = get_lottery(a, a_grid)\n",
    "    \n",
    "    # as initial D, use stationary distribution for s, plus uniform over a\n",
    "    pi = stationary_markov(Pi)\n",
    "    D = pi[:, np.newaxis] * np.ones_like(a_grid) / len(a_grid)\n",
    "    \n",
    "    # now iterate until convergence to acceptable threshold\n",
    "    for _ in range(10_000):\n",
    "        D_new = forward_iteration(D, Pi, a_i, a_pi)\n",
    "        if np.max(np.abs(D_new - D)) < tol:\n",
    "            return D_new\n",
    "        D = D_new"
   ]
  },
  {
   "cell_type": "markdown",
   "id": "72c35cf4",
   "metadata": {},
   "source": [
    "## 3.6 Getting steady-state distribution for our calibrated example\n",
    "Let's apply this to our example economy. We get an $n_s\\times n_a$ array giving the mass at each $D(s,a)$."
   ]
  },
  {
   "cell_type": "code",
   "execution_count": 31,
   "id": "7674226b",
   "metadata": {},
   "outputs": [
    {
     "data": {
      "text/plain": [
       "(7, 500)"
      ]
     },
     "execution_count": 31,
     "metadata": {},
     "output_type": "execute_result"
    }
   ],
   "source": [
    "D = distribution_ss(Pi, a, a_grid)\n",
    "D.shape"
   ]
  },
  {
   "cell_type": "markdown",
   "id": "5f385e0c",
   "metadata": {},
   "source": [
    "How can we plot this distribution? One simple way is to look at the cumulative distribution function of assets, which we can get by summing across $s$ and then taking the cumulative sum across $a$.\n",
    "\n",
    "Of course, we quickly see that this isn't very informative, since everyone has assets far below the top of the distribution—in this case, we made the grid maximum higher than it needed to be:"
   ]
  },
  {
   "cell_type": "code",
   "execution_count": 32,
   "id": "ffc3ae17",
   "metadata": {},
   "outputs": [
    {
     "data": {
      "image/png": "[encoded data removed]",
      "text/plain": [
       "<Figure size 432x288 with 1 Axes>"
      ]
     },
     "metadata": {
      "needs_background": "light"
     },
     "output_type": "display_data"
    }
   ],
   "source": [
    "plt.plot(a_grid, D.sum(axis=0).cumsum());"
   ]
  },
  {
   "cell_type": "markdown",
   "id": "2615402f",
   "metadata": {},
   "source": [
    "It's much more informative to plot up to a much lower level of assets. For instance, if we plot up to approximately $a=20$ (i.e. 20 times the average quarterly income, which we normalized to one, or 5 times the average annual income), we get: "
   ]
  },
  {
   "cell_type": "code",
   "execution_count": 33,
   "id": "5c8ff0cc",
   "metadata": {},
   "outputs": [
    {
     "data": {
      "image/png": "[encoded data removed]",
      "text/plain": [
       "<Figure size 432x288 with 1 Axes>"
      ]
     },
     "metadata": {
      "needs_background": "light"
     },
     "output_type": "display_data"
    }
   ],
   "source": [
    "plt.plot(a_grid[:300], D.sum(axis=0)[:300].cumsum())\n",
    "plt.hlines(1,0, a_grid[299], colors='k', linestyles='dotted');"
   ]
  },
  {
   "cell_type": "markdown",
   "id": "40121444",
   "metadata": {},
   "source": [
    "We see that a small fraction of people have assets over $a=20$ (these people, it will turn out, account for a nontrivial portion of total assets), but that the vast majority of the distribution is much lower. Indeed, since the CDF starts at 0.5, about half of households have zero assets.\n",
    "\n",
    "We can zoom in even further:"
   ]
  },
  {
   "cell_type": "code",
   "execution_count": 34,
   "id": "65501c95",
   "metadata": {
    "scrolled": true
   },
   "outputs": [
    {
     "data": {
      "image/png": "[encoded data removed]",
      "text/plain": [
       "<Figure size 432x288 with 1 Axes>"
      ]
     },
     "metadata": {
      "needs_background": "light"
     },
     "output_type": "display_data"
    }
   ],
   "source": [
    "plt.plot(a_grid[:150], D.sum(axis=0)[:150].cumsum())\n",
    "plt.hlines(1,0, a_grid[149], colors='k', linestyles='dotted');"
   ]
  },
  {
   "cell_type": "markdown",
   "id": "c1d61d79",
   "metadata": {},
   "source": [
    "Here we start to see some odd features. There are apparent jumps in the CDF near 0, which seem to correspond to mass points of the distribution. Then there is also a kink in the CDF a little above 1, which seems to correspond to a discontinuous drop in density.\n",
    "\n",
    "We can better understand these features if we plot the CDF separately by income state."
   ]
  },
  {
   "cell_type": "code",
   "execution_count": 35,
   "id": "c263822f",
   "metadata": {},
   "outputs": [
    {
     "data": {
      "image/png": "[encoded data removed]",
      "text/plain": [
       "<Figure size 432x288 with 1 Axes>"
      ]
     },
     "metadata": {
      "needs_background": "light"
     },
     "output_type": "display_data"
    }
   ],
   "source": [
    "for s, ys in enumerate(y):\n",
    "    plt.plot(a_grid[:150], D[s][:150].cumsum()/pi[s], label=f'y={ys:.2f}')\n",
    "plt.legend();"
   ]
  },
  {
   "cell_type": "markdown",
   "id": "4335dfa5",
   "metadata": {},
   "source": [
    "Here we see it: the odd behavior is mostly in the asset distribution for the $y=1.39$ income state. This is easy to explain on theoretical grounds:\n",
    "\n",
    "1. First, at all income states lower than $y=1.39$, households eventually draw down their assets to zero, and there is a mass point at zero assets. If their income rises to $y=1.39$, these households start saving, and there are mass points of households who have been saving for one, two, three, ... periods at this income, starting from exactly $a=0$.\n",
    "\n",
    "\n",
    "2. Second, the savings function for $y=1.39$ households hits zero at slightly above 1. This is the \"target\" level of assets for households with $y=1.39$. Households below this level will converge to it from below, and vice versa, but no households with $y=1.39$ *cross* this level. Hence nothing enforces a continuous density, and indeed it turns out that more households are converging from below, so the density below the level is higher than above.\n",
    "\n",
    "These seemingly-strange features of the distribution often show up in the standard incomplete markets model when we have finitely many income states. \\#1 only happens because of the interaction between a mass at the binding borrowing constraint and discrete time. But \\#2 can happen even in alternative models with no binding borrowing constraint, or continuous time. (There is also a possibility \\#3 related to \\#2 we don't see here, which is that the density at the \"target\" level of assets can asymptote to infinity. This happens when households converge to the target level sufficiently quickly.)\n",
    "\n",
    "The upshot is that something like this discretized \"lottery\" approach is necessary to achieve fine-grained accuracy for these models: many aspects of the distribution can't be represented by traditional, smooth functional forms.\n",
    "\n",
    "If we want the distribution to look smoother, we'd need to add some kind of shock with continuous support to the model—for instance, maybe log income has a continuously distributed iid component.\n",
    "\n",
    "Aside from the curiosities at $y=1.39$, we can see that the asset distributions for the highest income states $y=2.46$ and $y=4.36$ are far to the right. We can get a sense of this by calculating the average level of assets at each income state:"
   ]
  },
  {
   "cell_type": "code",
   "execution_count": 36,
   "id": "4729b4ea",
   "metadata": {
    "scrolled": true
   },
   "outputs": [
    {
     "name": "stdout",
     "output_type": "stream",
     "text": [
      "Ave assets at y=0.14: 0.02\n",
      "Ave assets at y=0.25: 0.05\n",
      "Ave assets at y=0.44: 0.16\n",
      "Ave assets at y=0.79: 0.56\n",
      "Ave assets at y=1.39: 2.19\n",
      "Ave assets at y=2.46: 7.01\n",
      "Ave assets at y=4.36: 17.67\n"
     ]
    }
   ],
   "source": [
    "for s, ys in enumerate(y):\n",
    "    print(f'Ave assets at y={ys:.2f}: {np.vdot(a_grid, D[s, :]) / pi[s]:.2f}')"
   ]
  },
  {
   "cell_type": "markdown",
   "id": "63acaee2",
   "metadata": {},
   "source": [
    "To get a sense of *who* holds the assets, we could also simply calculate total assets held in each income bin. This shows less dominance by the highest-income types, since they are far less common (as we also display below):"
   ]
  },
  {
   "cell_type": "code",
   "execution_count": 37,
   "id": "03bdb28c",
   "metadata": {},
   "outputs": [
    {
     "name": "stdout",
     "output_type": "stream",
     "text": [
      "Total assets at y=0.14 (1.6% of hh)\t: 0.00\n",
      "Total assets at y=0.25 (9.4% of hh)\t: 0.00\n",
      "Total assets at y=0.44 (23.4% of hh)\t: 0.04\n",
      "Total assets at y=0.79 (31.2% of hh)\t: 0.17\n",
      "Total assets at y=1.39 (23.4% of hh)\t: 0.51\n",
      "Total assets at y=2.46 (9.4% of hh)\t: 0.66\n",
      "Total assets at y=4.36 (1.6% of hh)\t: 0.28\n"
     ]
    }
   ],
   "source": [
    "for s, ys in enumerate(y):\n",
    "    print(f'Total assets at y={ys:.2f} ({100*pi[s]:.1f}% of hh)\\t: {np.vdot(a_grid, D[s, :]):.2f}')"
   ]
  },
  {
   "cell_type": "markdown",
   "id": "63c05825",
   "metadata": {},
   "source": [
    "Of course, we can also get the sum of all these, the total assets held in the economy. (Since `a_grid` is 1-dimensional and `D` is two-dimensional, we can't directly use a dot product here, but [array broadcasting](https://jakevdp.github.io/PythonDataScienceHandbook/02.05-computation-on-arrays-broadcasting.html) lines `a_grid` up with the second dimension of `D`, which is the asset dimension.)"
   ]
  },
  {
   "cell_type": "code",
   "execution_count": 38,
   "id": "25ce48ba",
   "metadata": {
    "scrolled": true
   },
   "outputs": [
    {
     "data": {
      "text/plain": [
       "1.6645070676480893"
      ]
     },
     "execution_count": 38,
     "metadata": {},
     "output_type": "execute_result"
    }
   ],
   "source": [
    "np.sum(a_grid*D)"
   ]
  },
  {
   "cell_type": "markdown",
   "id": "3655143e",
   "metadata": {},
   "source": [
    "Since we solved for a steady state, this is equal—up to numerical error—to the total assets chosen for tomorrow:"
   ]
  },
  {
   "cell_type": "code",
   "execution_count": 39,
   "id": "dec4e007",
   "metadata": {},
   "outputs": [
    {
     "data": {
      "text/plain": [
       "1.6645070661939023"
      ]
     },
     "execution_count": 39,
     "metadata": {},
     "output_type": "execute_result"
    }
   ],
   "source": [
    "np.vdot(a, D)"
   ]
  },
  {
   "cell_type": "markdown",
   "id": "7834efc6",
   "metadata": {},
   "source": [
    "<a id='section4'></a>\n",
    "# 4 Combining everything and aggregating: the full steady state\n",
    "## 4.1 Combined steady-state function\n",
    "Now we'll write a simple function that tracks everything we've done so far. Starting from the inputs to the policy function from part 2, we'll solve for both the steady-state policy function and distribution, then aggregate to obtain total consumption and assets.\n",
    "\n",
    "We'll return a dict with all inputs to the problem (`Pi`, `a_grid`, `y`, `r`, `beta`, `eis`), the individual level policies and marginal value function (`a`, `c`, `Va`), the distribution (`D`), and aggregate policies (`A` and `C`)."
   ]
  },
  {
   "cell_type": "code",
   "execution_count": 40,
   "id": "34ddbe30",
   "metadata": {},
   "outputs": [],
   "source": [
    "def steady_state(Pi, a_grid, y, r, beta, eis):\n",
    "    Va, a, c = policy_ss(Pi, a_grid, y, r, beta, eis)\n",
    "    D = distribution_ss(Pi, a, a_grid)\n",
    "    \n",
    "    return dict(D=D, Va=Va, \n",
    "                a=a, c=c,\n",
    "                A=np.vdot(a, D), C=np.vdot(c, D), # aggregation\n",
    "                Pi=Pi, a_grid=a_grid, y=y, r=r, beta=beta, eis=eis)"
   ]
  },
  {
   "cell_type": "code",
   "execution_count": 41,
   "id": "9265c6ed",
   "metadata": {
    "scrolled": true
   },
   "outputs": [
    {
     "data": {
      "text/plain": [
       "dict_keys(['D', 'Va', 'a', 'c', 'A', 'C', 'Pi', 'a_grid', 'y', 'r', 'beta', 'eis'])"
      ]
     },
     "execution_count": 41,
     "metadata": {},
     "output_type": "execute_result"
    }
   ],
   "source": [
    "ss = steady_state(Pi, a_grid, y, r, beta, eis)\n",
    "ss.keys()"
   ]
  },
  {
   "cell_type": "markdown",
   "id": "8ace31e2",
   "metadata": {},
   "source": [
    "## 4.2 Some comparative statics\n",
    "Steady-state assets slope sharply upward as we increase the steady-state real interest rate $r$, and indeed asymptote to infinity as we approach $r=\\beta^{-1}-1$, which in this case is just above 0.02:"
   ]
  },
  {
   "cell_type": "code",
   "execution_count": 42,
   "id": "cebea060",
   "metadata": {
    "scrolled": true
   },
   "outputs": [
    {
     "data": {
      "image/png": "[encoded data removed]",
      "text/plain": [
       "<Figure size 432x288 with 1 Axes>"
      ]
     },
     "metadata": {
      "needs_background": "light"
     },
     "output_type": "display_data"
    }
   ],
   "source": [
    "rs = r + np.linspace(-0.02, 0.015, 15)\n",
    "As = [steady_state(Pi, a_grid, y, r, beta, eis)['A'] for r in rs]\n",
    "plt.plot(rs, As)\n",
    "plt.xlabel('Real interest rate')\n",
    "plt.ylabel('Aggregate assets over quarterly income');"
   ]
  },
  {
   "cell_type": "markdown",
   "id": "cad33ade",
   "metadata": {},
   "source": [
    "(Note that the y-axis is labeled \"aggregate assets over quarterly income\" because aggregate quarterly income is normalized to one, so that this is how the quantity `A` should be interpreted.)\n",
    "\n",
    "Assets also slope strongly upward in income risk, which we'll manipulate below by calibrating to different standard deviations $\\sigma$ of cross-sectional log income. (This turns out to change only the vector `y` of incomes, making them more dispersed, not the Markov matrix `Pi`.)"
   ]
  },
  {
   "cell_type": "code",
   "execution_count": 43,
   "id": "83b978f9",
   "metadata": {},
   "outputs": [
    {
     "data": {
      "image/png": "[encoded data removed]",
      "text/plain": [
       "<Figure size 432x288 with 1 Axes>"
      ]
     },
     "metadata": {
      "needs_background": "light"
     },
     "output_type": "display_data"
    }
   ],
   "source": [
    "sigmas = np.linspace(0.3, 1.2, 8) # our benchmark was sigma=0.7\n",
    "As = []\n",
    "for sigma in sigmas:\n",
    "    y_new, pi_new, Pi_new = discretize_income(0.975, sigma, 7)\n",
    "    As.append(steady_state(Pi_new, a_grid, y_new, r, beta, eis)['A'])\n",
    "plt.plot(sigmas, As)\n",
    "plt.xlabel('Cross-sectional standard deviation of income')\n",
    "plt.ylabel('Assets over quarterly income');"
   ]
  },
  {
   "cell_type": "markdown",
   "id": "81fb206f",
   "metadata": {},
   "source": [
    "They are decreasing in the elasticity of intertemporal substitution, or equivalently increasing in the coefficient of risk aversion (its inverse)—this is because with lower risk aversion and less desire to smooth consumption, the precautionary and income-smoothing motives for saving become weaker."
   ]
  },
  {
   "cell_type": "code",
   "execution_count": 44,
   "id": "4bca448f",
   "metadata": {},
   "outputs": [
    {
     "data": {
      "image/png": "[encoded data removed]",
      "text/plain": [
       "<Figure size 432x288 with 1 Axes>"
      ]
     },
     "metadata": {
      "needs_background": "light"
     },
     "output_type": "display_data"
    }
   ],
   "source": [
    "eis_vec = np.linspace(0.4, 2, 10) # our benchmark was eis=1\n",
    "As = [steady_state(Pi, a_grid, y, r, beta, eis)['A'] for eis in eis_vec]\n",
    "plt.plot(eis_vec, As)\n",
    "plt.xlabel('Elasticity of intertemporal substitution')\n",
    "plt.ylabel('Assets over quarterly income');"
   ]
  },
  {
   "cell_type": "markdown",
   "id": "9d24ffee",
   "metadata": {},
   "source": [
    "## 4.3 Calibration\n",
    "So far, we've simply chosen all parameters of the household problem and then solved for the steady state. Alternatively, we might want to calibrate some of those parameters to hit various calibration targets.\n",
    "\n",
    "For instance, we might want to choose total assets to equal a certain level relative to income, which is normalized to one. Suppose that we choose assets to equal 140% of annual household income (inspired by [McKay, Nakamura, and Steinsson](https://eml.berkeley.edu/~enakamura/papers/forwardguidance.pdf), who calibrate to 140% of annual GDP). Since we have calibrated *quarterly* income to be 1, annual income is 4, and we want aggregate assets `A` to be $4\\times 1.4 = 5.6$.\n",
    "\n",
    "We'll search for the discount factor $\\beta$ that hits this calibration target. Unsurprisingly, higher $\\beta$ implies higher assets: more patient households save more.\n",
    "\n",
    "We'll use the SciPy function `optimize.brentq`, which uses [Brent's method](https://en.wikipedia.org/wiki/Brent%27s_method) (the same as in Matlab's `fzero`) to find the root of a scalar function. We need to give this method a minimum and maximum that bracket the root: as a minimum, we'll pick our existing $\\beta=0.98$, which gives lower savings, and as a maximum we'll pick the high level of $\\beta=0.995$. Note that we use the [Python `lambda` syntax](https://www.w3schools.com/python/python_lambda.asp) to define a new function of `beta` inline, so that the calibration code is very concise:"
   ]
  },
  {
   "cell_type": "code",
   "execution_count": 45,
   "id": "67b38ed0",
   "metadata": {},
   "outputs": [
    {
     "data": {
      "text/plain": [
       "0.987703940322874"
      ]
     },
     "execution_count": 45,
     "metadata": {},
     "output_type": "execute_result"
    }
   ],
   "source": [
    "beta_calib = optimize.brentq(\n",
    "                lambda beta: steady_state(Pi, a_grid, y, r, beta, eis)['A'] - 5.6,\n",
    "                0.98, 0.995)\n",
    "\n",
    "beta_calib"
   ]
  },
  {
   "cell_type": "markdown",
   "id": "9e340785",
   "metadata": {},
   "source": [
    "Let's get the entire steady state, verify that we have the right assets, and also look at consumption:"
   ]
  },
  {
   "cell_type": "code",
   "execution_count": 46,
   "id": "595991df",
   "metadata": {},
   "outputs": [
    {
     "data": {
      "text/plain": [
       "(5.599999999969402, 1.0140000048859799)"
      ]
     },
     "execution_count": 46,
     "metadata": {},
     "output_type": "execute_result"
    }
   ],
   "source": [
    "ss_calib = steady_state(Pi, a_grid, y, r, beta_calib, eis)\n",
    "ss_calib['A'], ss_calib['C']"
   ]
  },
  {
   "cell_type": "markdown",
   "id": "8ad321cc",
   "metadata": {},
   "source": [
    "Indeed, we have aggregate assets equal to 5.6 as desired, and aggregate consumption equals 1.014, which we could also calculate by summing aggregate labor income (which is 1) and asset income, as $C = 1 + rA$. We see that this is accurate (up to a small numerical error):"
   ]
  },
  {
   "cell_type": "code",
   "execution_count": 47,
   "id": "19e16ff3",
   "metadata": {},
   "outputs": [
    {
     "data": {
      "text/plain": [
       "-4.886056448327736e-09"
      ]
     },
     "execution_count": 47,
     "metadata": {},
     "output_type": "execute_result"
    }
   ],
   "source": [
    "1 + ss_calib['r']*ss_calib['A'] - ss_calib['C']"
   ]
  },
  {
   "cell_type": "markdown",
   "id": "1ab57cbf",
   "metadata": {},
   "source": [
    "## 4.4 General equilibrium\n",
    "So far, we have only discussed the \"partial equilibrium\" household problem in isolation.\n",
    "\n",
    "Here, we briefly discuss how this household block can be embedded in general equilibrium. Suppose that the household in state $s$ has an endowment $e(s)$ of effective labor, and that we normalize average effective labor to 1. Each unit of effective labor is used to produce one unit of consumption goods by a perfectly competitive production sector, so that the real wage is 1. Households save in government bonds, which pay the real interest rate $r$ and are supplied in exogenous quantity $B$ by the government. In steady state, the government finances its interest payments using a tax $\\tau = rB$ on labor earnings. Households' after-tax labor income is $y(s)=(1-\\tau)e(s)$.\n",
    "\n",
    "Suppose that we make $e(s)$ follow the same Markov process that $y(s)$ previously did, with mean 1. Then the only difference from the household sector in our previous calculations is that the after-tax income $y(s)$ that appears in households' budget constraint (2) now includes a factor of $1-\\tau$.\n",
    "\n",
    "In the spirit of the previous section, let's calibrate the ratio of bonds to output to annual 1.4, so that `B` is 5.6."
   ]
  },
  {
   "cell_type": "code",
   "execution_count": 48,
   "id": "44a973aa",
   "metadata": {},
   "outputs": [],
   "source": [
    "B = 5.6   # annual bonds/GDP is 140%, so quarterly is 560%, and quarterly GDP is 1\n",
    "tau = r*B # labor tax needed to balance steady-state government budget\n",
    "e = y     # use our previous y, which had mean 1, for the labor endowment process"
   ]
  },
  {
   "cell_type": "markdown",
   "id": "388658b3",
   "metadata": {},
   "source": [
    "Because of the low real interest rate, $\\tau$ is quite small:"
   ]
  },
  {
   "cell_type": "code",
   "execution_count": 49,
   "id": "568daa11",
   "metadata": {},
   "outputs": [
    {
     "data": {
      "text/plain": [
       "0.013999999999999999"
      ]
     },
     "execution_count": 49,
     "metadata": {},
     "output_type": "execute_result"
    }
   ],
   "source": [
    "tau"
   ]
  },
  {
   "cell_type": "markdown",
   "id": "66e57c3b",
   "metadata": {},
   "source": [
    "Now we can calibrate $\\beta$ to be consistent with steady-state asset market clearing, where aggregate household assets $A$ equal the supply $B$ of bonds. Note that we use $(1-\\tau)e(s)$ as income:"
   ]
  },
  {
   "cell_type": "code",
   "execution_count": 50,
   "id": "f3c0cfda",
   "metadata": {},
   "outputs": [
    {
     "data": {
      "text/plain": [
       "0.9877855433151485"
      ]
     },
     "execution_count": 50,
     "metadata": {},
     "output_type": "execute_result"
    }
   ],
   "source": [
    "beta_ge = optimize.brentq(\n",
    "                lambda beta: steady_state(Pi, a_grid, (1-tau)*e, r, beta, eis)['A'] - B,\n",
    "                0.98, 0.995)\n",
    "\n",
    "beta_ge"
   ]
  },
  {
   "cell_type": "markdown",
   "id": "4a87546f",
   "metadata": {},
   "source": [
    "Let's compute general equilibrium with this, and check that both asset market clearing and goods market clearing hold. (Note that although we are not explicitly solving for the latter, it should hold by Walras's law, with a total supply of goods equal to aggregate effective labor, which is 1.)"
   ]
  },
  {
   "cell_type": "code",
   "execution_count": 51,
   "id": "0f5beac4",
   "metadata": {},
   "outputs": [
    {
     "data": {
      "text/plain": [
       "(-1.6627588195206044e-11, 4.785917218086411e-09)"
      ]
     },
     "execution_count": 51,
     "metadata": {},
     "output_type": "execute_result"
    }
   ],
   "source": [
    "ss_ge = steady_state(Pi, a_grid, (1-tau)*e, r, beta_ge, eis)\n",
    "asset_mkt = ss_ge['A'] - B\n",
    "goods_mkt = ss_ge['C'] - 1\n",
    "asset_mkt, goods_mkt"
   ]
  },
  {
   "cell_type": "markdown",
   "id": "5e391a69",
   "metadata": {},
   "source": [
    "**General equilbrium counterfactuals.** Now that we have a fully specified general equilibrium model, we can do general equilibrium comparative statics, looking at what happens as we vary some parameter and continue re-solving for general equilibrium, keeping all other parameters (including the government's exogenous supply of bonds `B`) constant.\n",
    "\n",
    "For instance, suppose that we change income risk as in section 4.3. Now, total assets won't change, since they will equal `B`. Instead, it is the *real interest rate* $r$ that will move to equilibriate the market. As income risk rises and households desire to save more, the real interest rate decreases to maintain asset market equilibrium:"
   ]
  },
  {
   "cell_type": "code",
   "execution_count": 52,
   "id": "a94565ed",
   "metadata": {
    "scrolled": true
   },
   "outputs": [
    {
     "data": {
      "image/png": "[encoded data removed]",
      "text/plain": [
       "<Figure size 432x288 with 1 Axes>"
      ]
     },
     "metadata": {
      "needs_background": "light"
     },
     "output_type": "display_data"
    }
   ],
   "source": [
    "sigmas = np.linspace(0.3, 1.2, 8) # our benchmark was sigma=0.7\n",
    "rs = []\n",
    "for sigma in sigmas:\n",
    "    e_new, pi_new, Pi_new = discretize_income(0.975, sigma, 7)\n",
    "    rs.append(optimize.brentq(\n",
    "                lambda r: steady_state(Pi_new, a_grid, (1-r*B)*e_new, r, beta_ge, eis)['A'] - B,\n",
    "                -0.02, 0.015))\n",
    "plt.plot(sigmas, 4*np.array(rs))\n",
    "plt.xlabel('Cross-sectional standard deviation of income')\n",
    "plt.ylabel('Equilibrium real interest rate (annualized)');"
   ]
  },
  {
   "cell_type": "markdown",
   "id": "5c4bb8e4",
   "metadata": {},
   "source": [
    "(Note that this calculation took some more time than the others, since we are looping over different $\\sigma$s and then solving separately for the equilibrium $r$ corresponding to each. There are many ways to speed up this kinds of calculation—for instance, interpolating or extrapolating to get a better initial guess for each $r$.)"
   ]
  },
  {
   "cell_type": "code",
   "execution_count": null,
   "id": "4af42cbe",
   "metadata": {},
   "outputs": [],
   "source": []
  }
 ],
 "metadata": {
  "kernelspec": {
   "display_name": "Python 3 (ipykernel)",
   "language": "python",
   "name": "python3"
  },
  "language_info": {
   "codemirror_mode": {
    "name": "ipython",
    "version": 3
   },
   "file_extension": ".py",
   "mimetype": "text/x-python",
   "name": "python",
   "nbconvert_exporter": "python",
   "pygments_lexer": "ipython3",
   "version": "3.8.13"
  }
 },
 "nbformat": 4,
 "nbformat_minor": 5
}
